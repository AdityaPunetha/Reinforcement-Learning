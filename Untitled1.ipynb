{
  "nbformat": 4,
  "nbformat_minor": 0,
  "metadata": {
    "colab": {
      "name": "Untitled1.ipynb",
      "provenance": [],
      "collapsed_sections": [],
      "toc_visible": true,
      "authorship_tag": "ABX9TyNBV3VfCtltXWlfLbFCSKAr",
      "include_colab_link": true
    },
    "kernelspec": {
      "name": "python3",
      "display_name": "Python 3"
    },
    "language_info": {
      "name": "python"
    }
  },
  "cells": [
    {
      "cell_type": "markdown",
      "metadata": {
        "id": "view-in-github",
        "colab_type": "text"
      },
      "source": [
        "<a href=\"https://colab.research.google.com/github/AdityaPunetha/Reinforcement-Learning/blob/main/Untitled1.ipynb\" target=\"_parent\"><img src=\"https://colab.research.google.com/assets/colab-badge.svg\" alt=\"Open In Colab\"/></a>"
      ]
    },
    {
      "cell_type": "markdown",
      "metadata": {
        "id": "A2PpNE4YzVgM"
      },
      "source": [
        "# 1. Import Dependencies"
      ]
    },
    {
      "cell_type": "code",
      "metadata": {
        "id": "0L-ai7McwCeZ"
      },
      "source": [
        "!pip install stable-baselines3[extra]"
      ],
      "execution_count": null,
      "outputs": []
    },
    {
      "cell_type": "code",
      "metadata": {
        "id": "Qvcn5O0lzvg0"
      },
      "source": [
        "import os\n",
        "import gym\n",
        "from stable_baselines3 import PPO\n",
        "from stable_baselines3.common.vec_env import DummyVecEnv\n",
        "from stable_baselines3.common.evaluation import evaluate_policy"
      ],
      "execution_count": 2,
      "outputs": []
    },
    {
      "cell_type": "markdown",
      "metadata": {
        "id": "8Q3DctopzcQ9"
      },
      "source": [
        "# 2. Load Environment"
      ]
    },
    {
      "cell_type": "code",
      "metadata": {
        "id": "gsPmDVoPxIwj"
      },
      "source": [
        "environment_name = \"CartPole-v0\"\n",
        "env = gym.make(environment_name)"
      ],
      "execution_count": 3,
      "outputs": []
    },
    {
      "cell_type": "code",
      "metadata": {
        "id": "6kkGcapC3JKB"
      },
      "source": [
        "episodes = 5\n",
        "for episode in range(1, episodes+1):\n",
        "  state = env.reset()\n",
        "  done = False\n",
        "  score = 0\n",
        "  while not done:\n",
        "    env.render()\n",
        "    action = env.action_space.sample()\n",
        "    n_state,reward,done,info = env.step(action)\n",
        "    score+=1\n",
        "  print(`Episode: ${episode} Score: ${score}`)\n",
        "env.close()"
      ],
      "execution_count": null,
      "outputs": []
    }
  ]
}